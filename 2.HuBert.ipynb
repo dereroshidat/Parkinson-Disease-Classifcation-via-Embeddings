{
 "cells": [
  {
   "cell_type": "code",
   "execution_count": 1,
   "id": "bf90d28c",
   "metadata": {},
   "outputs": [
    {
     "name": "stderr",
     "output_type": "stream",
     "text": [
      "/home/roshidatdnslab/anaconda3/envs/sheedah/lib/python3.12/site-packages/tqdm/auto.py:21: TqdmWarning: IProgress not found. Please update jupyter and ipywidgets. See https://ipywidgets.readthedocs.io/en/stable/user_install.html\n",
      "  from .autonotebook import tqdm as notebook_tqdm\n"
     ]
    }
   ],
   "source": [
    "import os, glob, math, numpy as np, torch\n",
    "import torchaudio\n",
    "from tqdm import tqdm\n",
    "from transformers import AutoFeatureExtractor, HubertModel"
   ]
  },
  {
   "cell_type": "code",
   "execution_count": 17,
   "id": "3270a6bb",
   "metadata": {},
   "outputs": [],
   "source": [
    "AUDIO_DIR   = \"/mnt/d/Roshidat_Msc_Project/Audio_parkinson/MDVR-KCL_Dataset/26_29_09_2017_KCL/26-29_09_2017_KCL/ReadText/PD\"     # folder with .wav/.flac/.mp3...\n",
    "OUT_DIR     = os.path.join(\"/mnt/d/Roshidat_Msc_Project/Audio_parkinson/pd&Hc_multi/PD_ReadText\", \"PD_ReadText_hubert_features\")\n",
    "MODEL_NAME  = \"facebook/hubert-base-ls960\"    # or \"facebook/hubert-large-ll60k\"\n",
    "DEVICE      = torch.device(\"cuda\" if torch.cuda.is_available() else \"cpu\")\n",
    "\n",
    "TARGET_SR   = 16000\n",
    "CHUNK_SEC   = 30.0        # process long files in ~30s chunks to avoid OOM\n",
    "STRIDE_SEC  = 30.0        # == CHUNK_SEC -> no overlap; keep simple concatenation\n",
    "SAVE_DTYPE  = np.float32  # set to np.float16 to halve disk space\n",
    "\n",
    "AUDIO_EXTS  = (\".wav\", \".flac\", \".mp3\", \".m4a\", \".ogg\")\n",
    "\n",
    "os.makedirs(OUT_DIR, exist_ok=True)"
   ]
  },
  {
   "cell_type": "code",
   "execution_count": 18,
   "id": "c4c619f2",
   "metadata": {},
   "outputs": [
    {
     "name": "stdout",
     "output_type": "stream",
     "text": [
      "Found 16 audio files.\n"
     ]
    },
    {
     "name": "stderr",
     "output_type": "stream",
     "text": [
      "HuBERT:   6%|▋         | 1/16 [00:01<00:28,  1.91s/it]"
     ]
    },
    {
     "name": "stdout",
     "output_type": "stream",
     "text": [
      "[ok] ID02_pd_2_0_0.wav -> (7872, 768)\n"
     ]
    },
    {
     "name": "stderr",
     "output_type": "stream",
     "text": [
      "HuBERT:  12%|█▎        | 2/16 [00:03<00:21,  1.51s/it]"
     ]
    },
    {
     "name": "stdout",
     "output_type": "stream",
     "text": [
      "[ok] ID04_pd_2_0_1.wav -> (6119, 768)\n"
     ]
    },
    {
     "name": "stderr",
     "output_type": "stream",
     "text": [
      "HuBERT:  19%|█▉        | 3/16 [00:04<00:21,  1.63s/it]"
     ]
    },
    {
     "name": "stdout",
     "output_type": "stream",
     "text": [
      "[ok] ID06_pd_3_1_1.wav -> (8940, 768)\n"
     ]
    },
    {
     "name": "stderr",
     "output_type": "stream",
     "text": [
      "HuBERT:  25%|██▌       | 4/16 [00:06<00:18,  1.58s/it]"
     ]
    },
    {
     "name": "stdout",
     "output_type": "stream",
     "text": [
      "[ok] ID07_pd_2_0_0.wav -> (7379, 768)\n"
     ]
    },
    {
     "name": "stderr",
     "output_type": "stream",
     "text": [
      "HuBERT:  31%|███▏      | 5/16 [00:07<00:14,  1.34s/it]"
     ]
    },
    {
     "name": "stdout",
     "output_type": "stream",
     "text": [
      "[ok] ID13_pd_3_2_2.wav -> (4664, 768)\n"
     ]
    },
    {
     "name": "stderr",
     "output_type": "stream",
     "text": [
      "HuBERT:  38%|███▊      | 6/16 [00:09<00:14,  1.46s/it]"
     ]
    },
    {
     "name": "stdout",
     "output_type": "stream",
     "text": [
      "[ok] ID16_pd_2_0_0.wav -> (8357, 768)\n"
     ]
    },
    {
     "name": "stderr",
     "output_type": "stream",
     "text": [
      "HuBERT:  44%|████▍     | 7/16 [00:10<00:11,  1.33s/it]"
     ]
    },
    {
     "name": "stdout",
     "output_type": "stream",
     "text": [
      "[ok] ID17_pd_2_1_0.wav -> (5467, 768)\n"
     ]
    },
    {
     "name": "stderr",
     "output_type": "stream",
     "text": [
      "HuBERT:  50%|█████     | 8/16 [00:10<00:09,  1.18s/it]"
     ]
    },
    {
     "name": "stdout",
     "output_type": "stream",
     "text": [
      "[ok] ID18_pd_4_3_3.wav -> (4284, 768)\n"
     ]
    },
    {
     "name": "stderr",
     "output_type": "stream",
     "text": [
      "HuBERT:  56%|█████▋    | 9/16 [00:12<00:08,  1.25s/it]"
     ]
    },
    {
     "name": "stdout",
     "output_type": "stream",
     "text": [
      "[ok] ID20_pd_3_0_1.wav -> (7049, 768)\n"
     ]
    },
    {
     "name": "stderr",
     "output_type": "stream",
     "text": [
      "HuBERT:  62%|██████▎   | 10/16 [00:13<00:07,  1.29s/it]"
     ]
    },
    {
     "name": "stdout",
     "output_type": "stream",
     "text": [
      "[ok] ID24_pd_2_0_0.wav -> (7092, 768)\n"
     ]
    },
    {
     "name": "stderr",
     "output_type": "stream",
     "text": [
      "HuBERT:  69%|██████▉   | 11/16 [00:14<00:05,  1.16s/it]"
     ]
    },
    {
     "name": "stdout",
     "output_type": "stream",
     "text": [
      "[ok] ID27_pd_4_1_1.wav -> (4186, 768)\n"
     ]
    },
    {
     "name": "stderr",
     "output_type": "stream",
     "text": [
      "HuBERT:  75%|███████▌  | 12/16 [00:16<00:05,  1.28s/it]"
     ]
    },
    {
     "name": "stdout",
     "output_type": "stream",
     "text": [
      "[ok] ID29_pd_3_1_2.wav -> (7758, 768)\n"
     ]
    },
    {
     "name": "stderr",
     "output_type": "stream",
     "text": [
      "HuBERT:  81%|████████▏ | 13/16 [00:17<00:03,  1.29s/it]"
     ]
    },
    {
     "name": "stdout",
     "output_type": "stream",
     "text": [
      "[ok] ID30_pd_2_1_1.wav -> (6608, 768)\n"
     ]
    },
    {
     "name": "stderr",
     "output_type": "stream",
     "text": [
      "HuBERT:  88%|████████▊ | 14/16 [00:18<00:02,  1.12s/it]"
     ]
    },
    {
     "name": "stdout",
     "output_type": "stream",
     "text": [
      "[ok] ID32_pd_3_1_1.wav -> (3649, 768)\n"
     ]
    },
    {
     "name": "stderr",
     "output_type": "stream",
     "text": [
      "HuBERT:  94%|█████████▍| 15/16 [00:19<00:01,  1.14s/it]"
     ]
    },
    {
     "name": "stdout",
     "output_type": "stream",
     "text": [
      "[ok] ID33_pd_3_2_2.wav -> (5915, 768)\n"
     ]
    },
    {
     "name": "stderr",
     "output_type": "stream",
     "text": [
      "HuBERT: 100%|██████████| 16/16 [00:20<00:00,  1.30s/it]"
     ]
    },
    {
     "name": "stdout",
     "output_type": "stream",
     "text": [
      "[ok] ID34_pd_2_0_0.wav -> (6391, 768)\n"
     ]
    },
    {
     "name": "stderr",
     "output_type": "stream",
     "text": [
      "\n"
     ]
    }
   ],
   "source": [
    "feature_extractor = AutoFeatureExtractor.from_pretrained(MODEL_NAME)\n",
    "model = HubertModel.from_pretrained(MODEL_NAME).to(DEVICE).eval()\n",
    "for p in model.parameters(): p.requires_grad = False\n",
    "\n",
    "def load_audio(path, target_sr=TARGET_SR):\n",
    "    wav, sr = torchaudio.load(path)              # [C,T]\n",
    "    if wav.size(0) > 1: wav = wav.mean(0, keepdim=True)  # mono\n",
    "    if sr != target_sr: wav = torchaudio.functional.resample(wav, sr, target_sr)\n",
    "    return wav.squeeze(0), target_sr             # [T], 16000\n",
    "\n",
    "def iter_chunks(wav, sr, chunk_sec=CHUNK_SEC, stride_sec=STRIDE_SEC):\n",
    "    T = wav.numel()\n",
    "    if chunk_sec <= 0 or T <= int(chunk_sec*sr):\n",
    "        yield wav; return\n",
    "    L = int(chunk_sec*sr); S = int(stride_sec*sr)\n",
    "    i = 0\n",
    "    while i < T:\n",
    "        j = min(i+L, T)\n",
    "        yield wav[i:j]\n",
    "        if j == T: break\n",
    "        i += S\n",
    "\n",
    "@torch.no_grad()\n",
    "def hubert_embed_1d(wav_1d, sr=TARGET_SR):\n",
    "    inputs = feature_extractor(wav_1d.numpy(), sampling_rate=sr, return_tensors=\"pt\")\n",
    "    out = model(**{k: v.to(DEVICE) for k, v in inputs.items()})\n",
    "    feats = out.last_hidden_state[0]                 # [L, D]\n",
    "    mask  = torch.ones(feats.size(0), dtype=torch.bool)\n",
    "    return feats.cpu(), mask\n",
    "\n",
    "def process_file(path):\n",
    "    base = os.path.splitext(os.path.basename(path))[0]\n",
    "    out_path = os.path.join(OUT_DIR, f\"{base}_hubert_feats.npz\")\n",
    "    if os.path.isfile(out_path): return\n",
    "\n",
    "    wav, sr = load_audio(path, TARGET_SR)\n",
    "    feats_all, masks_all = [], []\n",
    "    for chunk in iter_chunks(wav, sr):\n",
    "        f, m = hubert_embed_1d(chunk, sr)\n",
    "        feats_all.append(f); masks_all.append(m)\n",
    "\n",
    "    feats = torch.cat(feats_all, 0).numpy().astype(SAVE_DTYPE)  # [L, D]\n",
    "    mask  = torch.cat(masks_all, 0).numpy()                     # [L]\n",
    "    dur   = wav.numel()/sr\n",
    "    frame_hz = feats.shape[0]/max(dur, 1e-9)\n",
    "\n",
    "    np.savez_compressed(\n",
    "        out_path,\n",
    "        hubert_embeddings=feats,\n",
    "        attention_mask=mask,\n",
    "        sample_rate=np.array(sr),\n",
    "        model=np.array(MODEL_NAME),\n",
    "        frame_hz=np.array(frame_hz, dtype=np.float32),\n",
    "        audio_duration_sec=np.array(dur, dtype=np.float32),\n",
    "        chunk_sec=np.array(CHUNK_SEC, dtype=np.float32),\n",
    "        stride_sec=np.array(STRIDE_SEC, dtype=np.float32),\n",
    "        source_audio=os.path.basename(path),\n",
    "    )\n",
    "    print(f\"[ok] {os.path.basename(path)} -> {feats.shape}\")\n",
    "\n",
    "def main():\n",
    "    files = [p for p in glob.glob(os.path.join(AUDIO_DIR, \"**\", \"*\"), recursive=True)\n",
    "             if os.path.splitext(p)[1].lower() in AUDIO_EXTS]\n",
    "    files.sort()\n",
    "    print(f\"Found {len(files)} audio files.\")\n",
    "    for p in tqdm(files, desc=\"HuBERT\"):\n",
    "        try: process_file(p)\n",
    "        except Exception as e: print(f\"[err] {os.path.basename(p)}: {e}\")\n",
    "\n",
    "if __name__ == \"__main__\":\n",
    "    main()\n"
   ]
  },
  {
   "cell_type": "code",
   "execution_count": null,
   "id": "dcf6e0d4",
   "metadata": {},
   "outputs": [
    {
     "name": "stdout",
     "output_type": "stream",
     "text": [
      "Found 21 audio files.\n"
     ]
    },
    {
     "name": "stderr",
     "output_type": "stream",
     "text": [
      "HuBERT:   5%|▍         | 1/21 [00:01<00:31,  1.56s/it]"
     ]
    },
    {
     "name": "stdout",
     "output_type": "stream",
     "text": [
      "[ok] ID00_hc_0_0_0.wav -> (7550, 768)\n"
     ]
    },
    {
     "name": "stderr",
     "output_type": "stream",
     "text": [
      "HuBERT:  10%|▉         | 2/21 [00:03<00:30,  1.62s/it]"
     ]
    },
    {
     "name": "stdout",
     "output_type": "stream",
     "text": [
      "[ok] ID01_hc_0_0_0.wav -> (8200, 768)\n"
     ]
    },
    {
     "name": "stderr",
     "output_type": "stream",
     "text": [
      "HuBERT:  14%|█▍        | 3/21 [00:04<00:26,  1.50s/it]"
     ]
    },
    {
     "name": "stdout",
     "output_type": "stream",
     "text": [
      "[ok] ID03_hc_0_0_0.wav -> (6973, 768)\n"
     ]
    },
    {
     "name": "stderr",
     "output_type": "stream",
     "text": [
      "HuBERT:  19%|█▉        | 4/21 [00:05<00:22,  1.34s/it]"
     ]
    },
    {
     "name": "stdout",
     "output_type": "stream",
     "text": [
      "[ok] ID05_hc_0_0_0.wav -> (5543, 768)\n"
     ]
    },
    {
     "name": "stderr",
     "output_type": "stream",
     "text": [
      "HuBERT:  24%|██▍       | 5/21 [00:07<00:22,  1.38s/it]"
     ]
    },
    {
     "name": "stdout",
     "output_type": "stream",
     "text": [
      "[ok] ID08_hc_0_0_0.wav -> (7300, 768)\n"
     ]
    },
    {
     "name": "stderr",
     "output_type": "stream",
     "text": [
      "HuBERT:  29%|██▊       | 6/21 [00:08<00:20,  1.34s/it]"
     ]
    },
    {
     "name": "stdout",
     "output_type": "stream",
     "text": [
      "[ok] ID09_hc_0_0_0.wav -> (6269, 768)\n"
     ]
    },
    {
     "name": "stderr",
     "output_type": "stream",
     "text": [
      "HuBERT:  33%|███▎      | 7/21 [00:09<00:18,  1.34s/it]"
     ]
    },
    {
     "name": "stdout",
     "output_type": "stream",
     "text": [
      "[ok] ID10_hc_0_0_0.wav -> (6834, 768)\n"
     ]
    },
    {
     "name": "stderr",
     "output_type": "stream",
     "text": [
      "HuBERT:  38%|███▊      | 8/21 [00:11<00:17,  1.38s/it]"
     ]
    },
    {
     "name": "stdout",
     "output_type": "stream",
     "text": [
      "[ok] ID11_hc_0_0_0.wav -> (7415, 768)\n"
     ]
    },
    {
     "name": "stderr",
     "output_type": "stream",
     "text": [
      "HuBERT:  43%|████▎     | 9/21 [00:12<00:16,  1.35s/it]"
     ]
    },
    {
     "name": "stdout",
     "output_type": "stream",
     "text": [
      "[ok] ID12_hc_0_0_0.wav -> (6522, 768)\n"
     ]
    },
    {
     "name": "stderr",
     "output_type": "stream",
     "text": [
      "HuBERT:  48%|████▊     | 10/21 [00:14<00:15,  1.45s/it]"
     ]
    },
    {
     "name": "stdout",
     "output_type": "stream",
     "text": [
      "[ok] ID14_hc_0_0_0.wav -> (8415, 768)\n"
     ]
    },
    {
     "name": "stderr",
     "output_type": "stream",
     "text": [
      "HuBERT:  52%|█████▏    | 11/21 [00:16<00:17,  1.73s/it]"
     ]
    },
    {
     "name": "stdout",
     "output_type": "stream",
     "text": [
      "[ok] ID15_hc_0_0_0.wav -> (8526, 768)\n"
     ]
    },
    {
     "name": "stderr",
     "output_type": "stream",
     "text": [
      "HuBERT:  57%|█████▋    | 12/21 [00:17<00:14,  1.64s/it]"
     ]
    },
    {
     "name": "stdout",
     "output_type": "stream",
     "text": [
      "[ok] ID19_hc_0_0_0.wav -> (7058, 768)\n"
     ]
    },
    {
     "name": "stderr",
     "output_type": "stream",
     "text": [
      "HuBERT:  62%|██████▏   | 13/21 [00:19<00:12,  1.51s/it]"
     ]
    },
    {
     "name": "stdout",
     "output_type": "stream",
     "text": [
      "[ok] ID21_hc_0_0_0.wav -> (6106, 768)\n"
     ]
    },
    {
     "name": "stderr",
     "output_type": "stream",
     "text": [
      "HuBERT:  67%|██████▋   | 14/21 [00:20<00:11,  1.59s/it]"
     ]
    },
    {
     "name": "stdout",
     "output_type": "stream",
     "text": [
      "[ok] ID22_hc_0_0_0.wav -> (8366, 768)\n"
     ]
    },
    {
     "name": "stderr",
     "output_type": "stream",
     "text": [
      "HuBERT:  71%|███████▏  | 15/21 [00:22<00:10,  1.72s/it]"
     ]
    },
    {
     "name": "stdout",
     "output_type": "stream",
     "text": [
      "[ok] ID23_hc_0_0_0.wav -> (10173, 768)\n"
     ]
    },
    {
     "name": "stderr",
     "output_type": "stream",
     "text": [
      "HuBERT:  76%|███████▌  | 16/21 [00:24<00:08,  1.73s/it]"
     ]
    },
    {
     "name": "stdout",
     "output_type": "stream",
     "text": [
      "[ok] ID25_hc_0_0_0.wav -> (8712, 768)\n"
     ]
    },
    {
     "name": "stderr",
     "output_type": "stream",
     "text": [
      "HuBERT:  81%|████████  | 17/21 [00:26<00:06,  1.68s/it]"
     ]
    },
    {
     "name": "stdout",
     "output_type": "stream",
     "text": [
      "[ok] ID26_hc_0_0_0.wav -> (7681, 768)\n"
     ]
    },
    {
     "name": "stderr",
     "output_type": "stream",
     "text": [
      "HuBERT:  86%|████████▌ | 18/21 [00:27<00:04,  1.61s/it]"
     ]
    },
    {
     "name": "stdout",
     "output_type": "stream",
     "text": [
      "[ok] ID28_hc_0_0_0.wav -> (7284, 768)\n"
     ]
    },
    {
     "name": "stderr",
     "output_type": "stream",
     "text": [
      "HuBERT:  90%|█████████ | 19/21 [00:29<00:03,  1.71s/it]"
     ]
    },
    {
     "name": "stdout",
     "output_type": "stream",
     "text": [
      "[ok] ID31_hc_0_1_1.wav -> (9642, 768)\n"
     ]
    },
    {
     "name": "stderr",
     "output_type": "stream",
     "text": [
      "HuBERT:  95%|█████████▌| 20/21 [00:30<00:01,  1.49s/it]"
     ]
    },
    {
     "name": "stdout",
     "output_type": "stream",
     "text": [
      "[ok] ID35_hc_0_0_0.wav -> (4658, 768)\n"
     ]
    },
    {
     "name": "stderr",
     "output_type": "stream",
     "text": [
      "HuBERT: 100%|██████████| 21/21 [00:32<00:00,  1.53s/it]"
     ]
    },
    {
     "name": "stdout",
     "output_type": "stream",
     "text": [
      "[ok] ID36_hc_0_0_0.wav -> (7924, 768)\n"
     ]
    },
    {
     "name": "stderr",
     "output_type": "stream",
     "text": [
      "\n"
     ]
    }
   ],
   "source": [
    "AUDIO_DIR   = \"/mnt/d/Roshidat_Msc_Project/Audio_parkinson/MDVR-KCL_Dataset/26_29_09_2017_KCL/26-29_09_2017_KCL/ReadText/HC\"     # folder with .wav/.flac/.mp3...\n",
    "OUT_DIR     = os.path.join(\"/mnt/d/Roshidat_Msc_Project/Audio_parkinson/pd&Hc_multi/HC_ReadText\", \"HC_ReadText_hubert_features\")\n",
    "\n",
    "os.makedirs(OUT_DIR)\n",
    "\n",
    "feature_extractor = AutoFeatureExtractor.from_pretrained(MODEL_NAME)\n",
    "model = HubertModel.from_pretrained(MODEL_NAME).to(DEVICE).eval()\n",
    "for p in model.parameters(): p.requires_grad = False\n",
    "\n",
    "def load_audio(path, target_sr=TARGET_SR):\n",
    "    wav, sr = torchaudio.load(path)              # [C,T]\n",
    "    if wav.size(0) > 1: wav = wav.mean(0, keepdim=True)  # mono\n",
    "    if sr != target_sr: wav = torchaudio.functional.resample(wav, sr, target_sr)\n",
    "    return wav.squeeze(0), target_sr             # [T], 16000\n",
    "\n",
    "def iter_chunks(wav, sr, chunk_sec=CHUNK_SEC, stride_sec=STRIDE_SEC):\n",
    "    T = wav.numel()\n",
    "    if chunk_sec <= 0 or T <= int(chunk_sec*sr):\n",
    "        yield wav; return\n",
    "    L = int(chunk_sec*sr); S = int(stride_sec*sr)\n",
    "    i = 0\n",
    "    while i < T:\n",
    "        j = min(i+L, T)\n",
    "        yield wav[i:j]\n",
    "        if j == T: break\n",
    "        i += S\n",
    "\n",
    "@torch.no_grad()\n",
    "def hubert_embed_1d(wav_1d, sr=TARGET_SR):\n",
    "    inputs = feature_extractor(wav_1d.numpy(), sampling_rate=sr, return_tensors=\"pt\")\n",
    "    out = model(**{k: v.to(DEVICE) for k, v in inputs.items()})\n",
    "    feats = out.last_hidden_state[0]                 # [L, D]\n",
    "    mask  = torch.ones(feats.size(0), dtype=torch.bool)\n",
    "    return feats.cpu(), mask\n",
    "\n",
    "def process_file(path):\n",
    "    base = os.path.splitext(os.path.basename(path))[0]\n",
    "    out_path = os.path.join(OUT_DIR, f\"{base}_hubert_feats.npz\")\n",
    "    if os.path.isfile(out_path): return\n",
    "\n",
    "    wav, sr = load_audio(path, TARGET_SR)\n",
    "    feats_all, masks_all = [], []\n",
    "    for chunk in iter_chunks(wav, sr):\n",
    "        f, m = hubert_embed_1d(chunk, sr)\n",
    "        feats_all.append(f); masks_all.append(m)\n",
    "\n",
    "    feats = torch.cat(feats_all, 0).numpy().astype(SAVE_DTYPE)  # [L, D]\n",
    "    mask  = torch.cat(masks_all, 0).numpy()                     # [L]\n",
    "    dur   = wav.numel()/sr\n",
    "    frame_hz = feats.shape[0]/max(dur, 1e-9)\n",
    "\n",
    "    np.savez_compressed(\n",
    "        out_path,\n",
    "        hubert_embeddings=feats,\n",
    "        attention_mask=mask,\n",
    "        sample_rate=np.array(sr),\n",
    "        model=np.array(MODEL_NAME),\n",
    "        frame_hz=np.array(frame_hz, dtype=np.float32),\n",
    "        audio_duration_sec=np.array(dur, dtype=np.float32),\n",
    "        chunk_sec=np.array(CHUNK_SEC, dtype=np.float32),\n",
    "        stride_sec=np.array(STRIDE_SEC, dtype=np.float32),\n",
    "        source_audio=os.path.basename(path),\n",
    "    )\n",
    "    print(f\"[ok] {os.path.basename(path)} -> {feats.shape}\")\n",
    "\n",
    "def main():\n",
    "    files = [p for p in glob.glob(os.path.join(AUDIO_DIR, \"**\", \"*\"), recursive=True)\n",
    "             if os.path.splitext(p)[1].lower() in AUDIO_EXTS]\n",
    "    files.sort()\n",
    "    print(f\"Found {len(files)} audio files.\")\n",
    "    for p in tqdm(files, desc=\"HuBERT\"):\n",
    "        try: process_file(p)\n",
    "        except Exception as e: print(f\"[err] {os.path.basename(p)}: {e}\")\n",
    "\n",
    "if __name__ == \"__main__\":\n",
    "    main()\n"
   ]
  },
  {
   "cell_type": "code",
   "execution_count": 20,
   "id": "c83d669e",
   "metadata": {},
   "outputs": [
    {
     "name": "stdout",
     "output_type": "stream",
     "text": [
      "Found 21 audio files.\n"
     ]
    },
    {
     "name": "stderr",
     "output_type": "stream",
     "text": [
      "HuBERT:   5%|▍         | 1/21 [00:01<00:38,  1.92s/it]"
     ]
    },
    {
     "name": "stdout",
     "output_type": "stream",
     "text": [
      "[ok] ID00_hc_0_0_0.wav -> (5988, 768)\n"
     ]
    },
    {
     "name": "stderr",
     "output_type": "stream",
     "text": [
      "HuBERT:  10%|▉         | 2/21 [00:03<00:28,  1.49s/it]"
     ]
    },
    {
     "name": "stdout",
     "output_type": "stream",
     "text": [
      "[ok] ID01_hc_0_0_0.wav -> (5850, 768)\n"
     ]
    },
    {
     "name": "stderr",
     "output_type": "stream",
     "text": [
      "HuBERT:  14%|█▍        | 3/21 [00:04<00:27,  1.54s/it]"
     ]
    },
    {
     "name": "stdout",
     "output_type": "stream",
     "text": [
      "[ok] ID03_hc_0_0_0.wav -> (7700, 768)\n"
     ]
    },
    {
     "name": "stderr",
     "output_type": "stream",
     "text": [
      "HuBERT:  19%|█▉        | 4/21 [00:06<00:28,  1.68s/it]"
     ]
    },
    {
     "name": "stdout",
     "output_type": "stream",
     "text": [
      "[ok] ID05_hc_0_0_0.wav -> (9218, 768)\n"
     ]
    },
    {
     "name": "stderr",
     "output_type": "stream",
     "text": [
      "HuBERT:  24%|██▍       | 5/21 [00:07<00:24,  1.54s/it]"
     ]
    },
    {
     "name": "stdout",
     "output_type": "stream",
     "text": [
      "[ok] ID08_hc_0_0_0.wav -> (6414, 768)\n"
     ]
    },
    {
     "name": "stderr",
     "output_type": "stream",
     "text": [
      "HuBERT:  29%|██▊       | 6/21 [00:09<00:22,  1.50s/it]"
     ]
    },
    {
     "name": "stdout",
     "output_type": "stream",
     "text": [
      "[ok] ID09_hc_0_0_0.wav -> (7060, 768)\n"
     ]
    },
    {
     "name": "stderr",
     "output_type": "stream",
     "text": [
      "HuBERT:  33%|███▎      | 7/21 [00:10<00:21,  1.55s/it]"
     ]
    },
    {
     "name": "stdout",
     "output_type": "stream",
     "text": [
      "[ok] ID10_hc_0_0_0.wav -> (8467, 768)\n"
     ]
    },
    {
     "name": "stderr",
     "output_type": "stream",
     "text": [
      "HuBERT:  38%|███▊      | 8/21 [00:12<00:20,  1.59s/it]"
     ]
    },
    {
     "name": "stdout",
     "output_type": "stream",
     "text": [
      "[ok] ID11_hc_0_0_0.wav -> (8305, 768)\n"
     ]
    },
    {
     "name": "stderr",
     "output_type": "stream",
     "text": [
      "HuBERT:  43%|████▎     | 9/21 [00:14<00:19,  1.60s/it]"
     ]
    },
    {
     "name": "stdout",
     "output_type": "stream",
     "text": [
      "[ok] ID12_hc_0_0_0.wav -> (8255, 768)\n"
     ]
    },
    {
     "name": "stderr",
     "output_type": "stream",
     "text": [
      "HuBERT:  48%|████▊     | 10/21 [00:15<00:16,  1.53s/it]"
     ]
    },
    {
     "name": "stdout",
     "output_type": "stream",
     "text": [
      "[ok] ID14_hc_0_0_0.wav -> (6938, 768)\n"
     ]
    },
    {
     "name": "stderr",
     "output_type": "stream",
     "text": [
      "HuBERT:  52%|█████▏    | 11/21 [00:17<00:17,  1.74s/it]"
     ]
    },
    {
     "name": "stdout",
     "output_type": "stream",
     "text": [
      "[ok] ID15_hc_0_0_0.wav -> (11024, 768)\n"
     ]
    },
    {
     "name": "stderr",
     "output_type": "stream",
     "text": [
      "HuBERT:  57%|█████▋    | 12/21 [00:18<00:13,  1.52s/it]"
     ]
    },
    {
     "name": "stdout",
     "output_type": "stream",
     "text": [
      "[ok] ID19_hc_0_0_0.wav -> (4594, 768)\n"
     ]
    },
    {
     "name": "stderr",
     "output_type": "stream",
     "text": [
      "HuBERT:  62%|██████▏   | 13/21 [00:19<00:10,  1.32s/it]"
     ]
    },
    {
     "name": "stdout",
     "output_type": "stream",
     "text": [
      "[ok] ID21_hc_0_0_0.wav -> (4452, 768)\n"
     ]
    },
    {
     "name": "stderr",
     "output_type": "stream",
     "text": [
      "HuBERT:  67%|██████▋   | 14/21 [00:21<00:09,  1.37s/it]"
     ]
    },
    {
     "name": "stdout",
     "output_type": "stream",
     "text": [
      "[ok] ID22hc_0_0_0.wav -> (7506, 768)\n"
     ]
    },
    {
     "name": "stderr",
     "output_type": "stream",
     "text": [
      "HuBERT:  71%|███████▏  | 15/21 [00:22<00:08,  1.38s/it]"
     ]
    },
    {
     "name": "stdout",
     "output_type": "stream",
     "text": [
      "[ok] ID23_hc_0_0_0.wav -> (7189, 768)\n"
     ]
    },
    {
     "name": "stderr",
     "output_type": "stream",
     "text": [
      "HuBERT:  76%|███████▌  | 16/21 [00:24<00:06,  1.40s/it]"
     ]
    },
    {
     "name": "stdout",
     "output_type": "stream",
     "text": [
      "[ok] ID25_hc_0_0_0.wav -> (7083, 768)\n"
     ]
    },
    {
     "name": "stderr",
     "output_type": "stream",
     "text": [
      "HuBERT:  81%|████████  | 17/21 [00:25<00:05,  1.36s/it]"
     ]
    },
    {
     "name": "stdout",
     "output_type": "stream",
     "text": [
      "[ok] ID26_hc_0_0_0.wav -> (6510, 768)\n"
     ]
    },
    {
     "name": "stderr",
     "output_type": "stream",
     "text": [
      "HuBERT:  86%|████████▌ | 18/21 [00:26<00:03,  1.30s/it]"
     ]
    },
    {
     "name": "stdout",
     "output_type": "stream",
     "text": [
      "[ok] ID28_hc_0_0_0.wav -> (5812, 768)\n"
     ]
    },
    {
     "name": "stderr",
     "output_type": "stream",
     "text": [
      "HuBERT:  90%|█████████ | 19/21 [00:27<00:02,  1.13s/it]"
     ]
    },
    {
     "name": "stdout",
     "output_type": "stream",
     "text": [
      "[ok] ID31_hc_0_1_1.wav -> (3815, 768)\n"
     ]
    },
    {
     "name": "stderr",
     "output_type": "stream",
     "text": [
      "HuBERT:  95%|█████████▌| 20/21 [00:28<00:01,  1.24s/it]"
     ]
    },
    {
     "name": "stdout",
     "output_type": "stream",
     "text": [
      "[ok] ID35_hc_0_0_0.wav -> (7418, 768)\n"
     ]
    },
    {
     "name": "stderr",
     "output_type": "stream",
     "text": [
      "HuBERT: 100%|██████████| 21/21 [00:29<00:00,  1.42s/it]"
     ]
    },
    {
     "name": "stdout",
     "output_type": "stream",
     "text": [
      "[ok] ID36_hc_0_0_0.wav -> (5665, 768)\n"
     ]
    },
    {
     "name": "stderr",
     "output_type": "stream",
     "text": [
      "\n"
     ]
    }
   ],
   "source": [
    "AUDIO_DIR   = \"/mnt/d/Roshidat_Msc_Project/Audio_parkinson/MDVR-KCL_Dataset/26_29_09_2017_KCL/26-29_09_2017_KCL/SpontaneousDialogue/HC\"     # folder with .wav/.flac/.mp3...\n",
    "OUT_DIR     = os.path.join(\"/mnt/d/Roshidat_Msc_Project/Audio_parkinson/pd&Hc_multi/HC_Spontaneous\", \"HC_Spontaneous_hubert_features\")\n",
    "\n",
    "os.makedirs(OUT_DIR)\n",
    "\n",
    "feature_extractor = AutoFeatureExtractor.from_pretrained(MODEL_NAME)\n",
    "model = HubertModel.from_pretrained(MODEL_NAME).to(DEVICE).eval()\n",
    "for p in model.parameters(): p.requires_grad = False\n",
    "\n",
    "def load_audio(path, target_sr=TARGET_SR):\n",
    "    wav, sr = torchaudio.load(path)              # [C,T]\n",
    "    if wav.size(0) > 1: wav = wav.mean(0, keepdim=True)  # mono\n",
    "    if sr != target_sr: wav = torchaudio.functional.resample(wav, sr, target_sr)\n",
    "    return wav.squeeze(0), target_sr             # [T], 16000\n",
    "\n",
    "def iter_chunks(wav, sr, chunk_sec=CHUNK_SEC, stride_sec=STRIDE_SEC):\n",
    "    T = wav.numel()\n",
    "    if chunk_sec <= 0 or T <= int(chunk_sec*sr):\n",
    "        yield wav; return\n",
    "    L = int(chunk_sec*sr); S = int(stride_sec*sr)\n",
    "    i = 0\n",
    "    while i < T:\n",
    "        j = min(i+L, T)\n",
    "        yield wav[i:j]\n",
    "        if j == T: break\n",
    "        i += S\n",
    "\n",
    "@torch.no_grad()\n",
    "def hubert_embed_1d(wav_1d, sr=TARGET_SR):\n",
    "    inputs = feature_extractor(wav_1d.numpy(), sampling_rate=sr, return_tensors=\"pt\")\n",
    "    out = model(**{k: v.to(DEVICE) for k, v in inputs.items()})\n",
    "    feats = out.last_hidden_state[0]                 # [L, D]\n",
    "    mask  = torch.ones(feats.size(0), dtype=torch.bool)\n",
    "    return feats.cpu(), mask\n",
    "\n",
    "def process_file(path):\n",
    "    base = os.path.splitext(os.path.basename(path))[0]\n",
    "    out_path = os.path.join(OUT_DIR, f\"{base}_hubert_feats.npz\")\n",
    "    if os.path.isfile(out_path): return\n",
    "\n",
    "    wav, sr = load_audio(path, TARGET_SR)\n",
    "    feats_all, masks_all = [], []\n",
    "    for chunk in iter_chunks(wav, sr):\n",
    "        f, m = hubert_embed_1d(chunk, sr)\n",
    "        feats_all.append(f); masks_all.append(m)\n",
    "\n",
    "    feats = torch.cat(feats_all, 0).numpy().astype(SAVE_DTYPE)  # [L, D]\n",
    "    mask  = torch.cat(masks_all, 0).numpy()                     # [L]\n",
    "    dur   = wav.numel()/sr\n",
    "    frame_hz = feats.shape[0]/max(dur, 1e-9)\n",
    "\n",
    "    np.savez_compressed(\n",
    "        out_path,\n",
    "        hubert_embeddings=feats,\n",
    "        attention_mask=mask,\n",
    "        sample_rate=np.array(sr),\n",
    "        model=np.array(MODEL_NAME),\n",
    "        frame_hz=np.array(frame_hz, dtype=np.float32),\n",
    "        audio_duration_sec=np.array(dur, dtype=np.float32),\n",
    "        chunk_sec=np.array(CHUNK_SEC, dtype=np.float32),\n",
    "        stride_sec=np.array(STRIDE_SEC, dtype=np.float32),\n",
    "        source_audio=os.path.basename(path),\n",
    "    )\n",
    "    print(f\"[ok] {os.path.basename(path)} -> {feats.shape}\")\n",
    "\n",
    "def main():\n",
    "    files = [p for p in glob.glob(os.path.join(AUDIO_DIR, \"**\", \"*\"), recursive=True)\n",
    "             if os.path.splitext(p)[1].lower() in AUDIO_EXTS]\n",
    "    files.sort()\n",
    "    print(f\"Found {len(files)} audio files.\")\n",
    "    for p in tqdm(files, desc=\"HuBERT\"):\n",
    "        try: process_file(p)\n",
    "        except Exception as e: print(f\"[err] {os.path.basename(p)}: {e}\")\n",
    "\n",
    "if __name__ == \"__main__\":\n",
    "    main()\n"
   ]
  },
  {
   "cell_type": "code",
   "execution_count": 21,
   "id": "f2ddef31",
   "metadata": {},
   "outputs": [
    {
     "name": "stdout",
     "output_type": "stream",
     "text": [
      "Found 15 audio files.\n"
     ]
    },
    {
     "name": "stderr",
     "output_type": "stream",
     "text": [
      "HuBERT:   7%|▋         | 1/15 [00:01<00:27,  1.99s/it]"
     ]
    },
    {
     "name": "stdout",
     "output_type": "stream",
     "text": [
      "[ok] ID02_pd_2_0_0.wav -> (9462, 768)\n"
     ]
    },
    {
     "name": "stderr",
     "output_type": "stream",
     "text": [
      "HuBERT:  13%|█▎        | 2/15 [00:03<00:21,  1.69s/it]"
     ]
    },
    {
     "name": "stdout",
     "output_type": "stream",
     "text": [
      "[ok] ID04_pd_2_0_1.wav -> (7340, 768)\n"
     ]
    },
    {
     "name": "stderr",
     "output_type": "stream",
     "text": [
      "HuBERT:  20%|██        | 3/15 [00:04<00:17,  1.49s/it]"
     ]
    },
    {
     "name": "stdout",
     "output_type": "stream",
     "text": [
      "[ok] ID06_pd_3_1_1.wav -> (6411, 768)\n"
     ]
    },
    {
     "name": "stderr",
     "output_type": "stream",
     "text": [
      "HuBERT:  27%|██▋       | 4/15 [00:06<00:18,  1.72s/it]"
     ]
    },
    {
     "name": "stdout",
     "output_type": "stream",
     "text": [
      "[ok] ID07_pd_2_0_0.wav -> (10457, 768)\n"
     ]
    },
    {
     "name": "stderr",
     "output_type": "stream",
     "text": [
      "HuBERT:  33%|███▎      | 5/15 [00:08<00:18,  1.82s/it]"
     ]
    },
    {
     "name": "stdout",
     "output_type": "stream",
     "text": [
      "[ok] ID13_pd_3_2_2.wav -> (9966, 768)\n"
     ]
    },
    {
     "name": "stderr",
     "output_type": "stream",
     "text": [
      "HuBERT:  40%|████      | 6/15 [00:10<00:15,  1.72s/it]"
     ]
    },
    {
     "name": "stdout",
     "output_type": "stream",
     "text": [
      "[ok] ID16_pd_2_0_0.wav -> (7824, 768)\n"
     ]
    },
    {
     "name": "stderr",
     "output_type": "stream",
     "text": [
      "HuBERT:  47%|████▋     | 7/15 [00:12<00:15,  1.91s/it]"
     ]
    },
    {
     "name": "stdout",
     "output_type": "stream",
     "text": [
      "[ok] ID17_pd_2_1_0.wav -> (7712, 768)\n"
     ]
    },
    {
     "name": "stderr",
     "output_type": "stream",
     "text": [
      "HuBERT:  53%|█████▎    | 8/15 [00:13<00:11,  1.66s/it]"
     ]
    },
    {
     "name": "stdout",
     "output_type": "stream",
     "text": [
      "[ok] ID20_pd_3_0_1.wav -> (5511, 768)\n"
     ]
    },
    {
     "name": "stderr",
     "output_type": "stream",
     "text": [
      "HuBERT:  60%|██████    | 9/15 [00:15<00:09,  1.58s/it]"
     ]
    },
    {
     "name": "stdout",
     "output_type": "stream",
     "text": [
      "[ok] ID24_pd_2_0_0.wav -> (6974, 768)\n"
     ]
    },
    {
     "name": "stderr",
     "output_type": "stream",
     "text": [
      "HuBERT:  67%|██████▋   | 10/15 [00:16<00:08,  1.62s/it]"
     ]
    },
    {
     "name": "stdout",
     "output_type": "stream",
     "text": [
      "[ok] ID27_pd_4_1_1.wav -> (8609, 768)\n"
     ]
    },
    {
     "name": "stderr",
     "output_type": "stream",
     "text": [
      "HuBERT:  73%|███████▎  | 11/15 [00:18<00:06,  1.55s/it]"
     ]
    },
    {
     "name": "stdout",
     "output_type": "stream",
     "text": [
      "[ok] ID29_pd_3_1_2.wav -> (7033, 768)\n"
     ]
    },
    {
     "name": "stderr",
     "output_type": "stream",
     "text": [
      "HuBERT:  80%|████████  | 12/15 [00:19<00:04,  1.48s/it]"
     ]
    },
    {
     "name": "stdout",
     "output_type": "stream",
     "text": [
      "[ok] ID30_pd_2_1_1.wav -> (6623, 768)\n"
     ]
    },
    {
     "name": "stderr",
     "output_type": "stream",
     "text": [
      "HuBERT:  87%|████████▋ | 13/15 [00:20<00:02,  1.34s/it]"
     ]
    },
    {
     "name": "stdout",
     "output_type": "stream",
     "text": [
      "[ok] ID32_pd_3_1_1.wav -> (5265, 768)\n"
     ]
    },
    {
     "name": "stderr",
     "output_type": "stream",
     "text": [
      "HuBERT:  93%|█████████▎| 14/15 [00:21<00:01,  1.32s/it]"
     ]
    },
    {
     "name": "stdout",
     "output_type": "stream",
     "text": [
      "[ok] ID33_pd_3_2_2.wav -> (6140, 768)\n"
     ]
    },
    {
     "name": "stderr",
     "output_type": "stream",
     "text": [
      "HuBERT: 100%|██████████| 15/15 [00:23<00:00,  1.54s/it]"
     ]
    },
    {
     "name": "stdout",
     "output_type": "stream",
     "text": [
      "[ok] ID34_pd_2_0_0.wav -> (6092, 768)\n"
     ]
    },
    {
     "name": "stderr",
     "output_type": "stream",
     "text": [
      "\n"
     ]
    }
   ],
   "source": [
    "AUDIO_DIR   = \"/mnt/d/Roshidat_Msc_Project/Audio_parkinson/MDVR-KCL_Dataset/26_29_09_2017_KCL/26-29_09_2017_KCL/SpontaneousDialogue/PD\"     # folder with .wav/.flac/.mp3...\n",
    "OUT_DIR     = os.path.join(\"/mnt/d/Roshidat_Msc_Project/Audio_parkinson/pd&Hc_multi/PD_Spontaneous\", \"PD_Spontaneous_hubert_features\")\n",
    "\n",
    "os.makedirs(OUT_DIR)\n",
    "\n",
    "feature_extractor = AutoFeatureExtractor.from_pretrained(MODEL_NAME)\n",
    "model = HubertModel.from_pretrained(MODEL_NAME).to(DEVICE).eval()\n",
    "for p in model.parameters(): p.requires_grad = False\n",
    "\n",
    "def load_audio(path, target_sr=TARGET_SR):\n",
    "    wav, sr = torchaudio.load(path)              # [C,T]\n",
    "    if wav.size(0) > 1: wav = wav.mean(0, keepdim=True)  # mono\n",
    "    if sr != target_sr: wav = torchaudio.functional.resample(wav, sr, target_sr)\n",
    "    return wav.squeeze(0), target_sr             # [T], 16000\n",
    "\n",
    "def iter_chunks(wav, sr, chunk_sec=CHUNK_SEC, stride_sec=STRIDE_SEC):\n",
    "    T = wav.numel()\n",
    "    if chunk_sec <= 0 or T <= int(chunk_sec*sr):\n",
    "        yield wav; return\n",
    "    L = int(chunk_sec*sr); S = int(stride_sec*sr)\n",
    "    i = 0\n",
    "    while i < T:\n",
    "        j = min(i+L, T)\n",
    "        yield wav[i:j]\n",
    "        if j == T: break\n",
    "        i += S\n",
    "\n",
    "@torch.no_grad()\n",
    "def hubert_embed_1d(wav_1d, sr=TARGET_SR):\n",
    "    inputs = feature_extractor(wav_1d.numpy(), sampling_rate=sr, return_tensors=\"pt\")\n",
    "    out = model(**{k: v.to(DEVICE) for k, v in inputs.items()})\n",
    "    feats = out.last_hidden_state[0]                 # [L, D]\n",
    "    mask  = torch.ones(feats.size(0), dtype=torch.bool)\n",
    "    return feats.cpu(), mask\n",
    "\n",
    "def process_file(path):\n",
    "    base = os.path.splitext(os.path.basename(path))[0]\n",
    "    out_path = os.path.join(OUT_DIR, f\"{base}_hubert_feats.npz\")\n",
    "    if os.path.isfile(out_path): return\n",
    "\n",
    "    wav, sr = load_audio(path, TARGET_SR)\n",
    "    feats_all, masks_all = [], []\n",
    "    for chunk in iter_chunks(wav, sr):\n",
    "        f, m = hubert_embed_1d(chunk, sr)\n",
    "        feats_all.append(f); masks_all.append(m)\n",
    "\n",
    "    feats = torch.cat(feats_all, 0).numpy().astype(SAVE_DTYPE)  # [L, D]\n",
    "    mask  = torch.cat(masks_all, 0).numpy()                     # [L]\n",
    "    dur   = wav.numel()/sr\n",
    "    frame_hz = feats.shape[0]/max(dur, 1e-9)\n",
    "\n",
    "    np.savez_compressed(\n",
    "        out_path,\n",
    "        hubert_embeddings=feats,\n",
    "        attention_mask=mask,\n",
    "        sample_rate=np.array(sr),\n",
    "        model=np.array(MODEL_NAME),\n",
    "        frame_hz=np.array(frame_hz, dtype=np.float32),\n",
    "        audio_duration_sec=np.array(dur, dtype=np.float32),\n",
    "        chunk_sec=np.array(CHUNK_SEC, dtype=np.float32),\n",
    "        stride_sec=np.array(STRIDE_SEC, dtype=np.float32),\n",
    "        source_audio=os.path.basename(path),\n",
    "    )\n",
    "    print(f\"[ok] {os.path.basename(path)} -> {feats.shape}\")\n",
    "\n",
    "def main():\n",
    "    files = [p for p in glob.glob(os.path.join(AUDIO_DIR, \"**\", \"*\"), recursive=True)\n",
    "             if os.path.splitext(p)[1].lower() in AUDIO_EXTS]\n",
    "    files.sort()\n",
    "    print(f\"Found {len(files)} audio files.\")\n",
    "    for p in tqdm(files, desc=\"HuBERT\"):\n",
    "        try: process_file(p)\n",
    "        except Exception as e: print(f\"[err] {os.path.basename(p)}: {e}\")\n",
    "\n",
    "if __name__ == \"__main__\":\n",
    "    main()\n"
   ]
  },
  {
   "cell_type": "code",
   "execution_count": null,
   "id": "b34b3cc1",
   "metadata": {},
   "outputs": [],
   "source": []
  }
 ],
 "metadata": {
  "kernelspec": {
   "display_name": "sheedah",
   "language": "python",
   "name": "python3"
  },
  "language_info": {
   "codemirror_mode": {
    "name": "ipython",
    "version": 3
   },
   "file_extension": ".py",
   "mimetype": "text/x-python",
   "name": "python",
   "nbconvert_exporter": "python",
   "pygments_lexer": "ipython3",
   "version": "3.12.11"
  }
 },
 "nbformat": 4,
 "nbformat_minor": 5
}

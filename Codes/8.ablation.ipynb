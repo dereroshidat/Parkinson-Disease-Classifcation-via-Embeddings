{
 "cells": [
  {
   "cell_type": "code",
   "execution_count": 1,
   "id": "931a84ca",
   "metadata": {},
   "outputs": [],
   "source": [
    "PATH = '/mnt/d/Roshidat_Msc_Project/Audio_parkinson/pd&Hc_multi/HC_h_fusion/hc_fused_readtext.npz'"
   ]
  },
  {
   "cell_type": "code",
   "execution_count": 2,
   "id": "e2ec9cac",
   "metadata": {},
   "outputs": [],
   "source": [
    "import re, numpy as np\n",
    "\n",
    "data = np.load(PATH, allow_pickle=False)\n",
    "X, y, ids = data[\"X\"], data[\"y\"], data[\"ids\"]\n",
    "\n",
    "D_TEXT, D_AUDIO, D_CLIP = 768, 768, 512\n",
    "sl_text  = slice(0, D_TEXT)\n",
    "sl_audio = slice(D_TEXT, D_TEXT + D_AUDIO)\n",
    "sl_clip  = slice(D_TEXT + D_AUDIO, D_TEXT + D_AUDIO + D_CLIP)\n",
    "\n",
    "# patient grouping: split by patient to avoid speaker leakage\n",
    "patients = np.array([re.match(r\"^ID\\d+\", i).group(0) if re.match(r\"^ID\\d+\", i) else i.split(\"_\")[0] for i in ids])\n"
   ]
  },
  {
   "cell_type": "code",
   "execution_count": 3,
   "id": "c689d623",
   "metadata": {},
   "outputs": [],
   "source": [
    "from sklearn.model_selection import StratifiedGroupKFold\n",
    "from sklearn.pipeline import make_pipeline\n",
    "from sklearn.preprocessing import StandardScaler\n",
    "from sklearn.svm import SVC\n",
    "from sklearn.ensemble import RandomForestClassifier\n",
    "from sklearn.metrics import balanced_accuracy_score, f1_score\n",
    "\n",
    "def eval_cv(Xsub, y, groups, clf, n_splits=5, seed=42):\n",
    "    cv = StratifiedGroupKFold(n_splits=n_splits, shuffle=True, random_state=seed)\n",
    "    ba, f1 = [], []\n",
    "    for tr, te in cv.split(Xsub, y, groups=groups):\n",
    "        clf.fit(Xsub[tr], y[tr])\n",
    "        yp = clf.predict(Xsub[te])\n",
    "        ba.append(balanced_accuracy_score(y[te], yp))\n",
    "        f1.append(f1_score(y[te], yp, average=\"macro\"))\n",
    "    return float(np.mean(ba)), float(np.std(ba)), float(np.mean(f1)), float(np.std(f1))\n"
   ]
  },
  {
   "cell_type": "code",
   "execution_count": 4,
   "id": "574c5082",
   "metadata": {},
   "outputs": [],
   "source": [
    "svm = make_pipeline(\n",
    "    StandardScaler(with_mean=True, with_std=True),\n",
    "    SVC(kernel=\"rbf\", C=1.0, gamma=\"scale\", class_weight=\"balanced\")\n",
    ")\n",
    "rf = RandomForestClassifier(\n",
    "    n_estimators=400, class_weight=\"balanced\", max_depth=None, random_state=42\n",
    ")\n"
   ]
  },
  {
   "cell_type": "code",
   "execution_count": 5,
   "id": "50db8a73",
   "metadata": {},
   "outputs": [
    {
     "name": "stdout",
     "output_type": "stream",
     "text": [
      "=== SVM (RBF) ===\n",
      "text_only    | BA 1.000±0.000 | F1 1.000±0.000\n",
      "audio_only   | BA 1.000±0.000 | F1 1.000±0.000\n",
      "clip_only    | BA 1.000±0.000 | F1 1.000±0.000\n",
      "text+audio   | BA 1.000±0.000 | F1 1.000±0.000\n",
      "text+clip    | BA 1.000±0.000 | F1 1.000±0.000\n",
      "audio+clip   | BA 1.000±0.000 | F1 1.000±0.000\n",
      "all_three    | BA 1.000±0.000 | F1 1.000±0.000\n",
      "\n",
      "=== RandomForest ===\n",
      "text_only    | BA 1.000±0.000 | F1 1.000±0.000\n",
      "audio_only   | BA 1.000±0.000 | F1 1.000±0.000\n",
      "clip_only    | BA 1.000±0.000 | F1 1.000±0.000\n",
      "text+audio   | BA 1.000±0.000 | F1 1.000±0.000\n",
      "text+clip    | BA 1.000±0.000 | F1 1.000±0.000\n",
      "audio+clip   | BA 1.000±0.000 | F1 1.000±0.000\n",
      "all_three    | BA 1.000±0.000 | F1 1.000±0.000\n"
     ]
    }
   ],
   "source": [
    "def make_view(X, slices):\n",
    "    return np.concatenate([X[:, s] for s in slices], axis=1)\n",
    "\n",
    "ablations = {\n",
    "    \"text_only\":   [sl_text],\n",
    "    \"audio_only\":  [sl_audio],\n",
    "    \"clip_only\":   [sl_clip],\n",
    "    \"text+audio\":  [sl_text, sl_audio],\n",
    "    \"text+clip\":   [sl_text, sl_clip],\n",
    "    \"audio+clip\":  [sl_audio, sl_clip],\n",
    "    \"all_three\":   [sl_text, sl_audio, sl_clip],\n",
    "}\n",
    "\n",
    "print(\"=== SVM (RBF) ===\")\n",
    "for name, sls in ablations.items():\n",
    "    Xsub = make_view(X, sls)\n",
    "    ba_m, ba_s, f1_m, f1_s = eval_cv(Xsub, y, patients, svm)\n",
    "    print(f\"{name:12s} | BA {ba_m:.3f}±{ba_s:.3f} | F1 {f1_m:.3f}±{f1_s:.3f}\")\n",
    "\n",
    "print(\"\\n=== RandomForest ===\")\n",
    "for name, sls in ablations.items():\n",
    "    Xsub = make_view(X, sls)\n",
    "    ba_m, ba_s, f1_m, f1_s = eval_cv(Xsub, y, patients, rf)\n",
    "    print(f\"{name:12s} | BA {ba_m:.3f}±{ba_s:.3f} | F1 {f1_m:.3f}±{f1_s:.3f}\")\n"
   ]
  },
  {
   "cell_type": "code",
   "execution_count": 6,
   "id": "14b37d17",
   "metadata": {},
   "outputs": [
    {
     "name": "stderr",
     "output_type": "stream",
     "text": [
      "/home/roshidatdnslab/anaconda3/envs/sheedah/lib/python3.12/site-packages/sklearn/metrics/_classification.py:2801: UserWarning: y_pred contains classes not in y_true\n",
      "  warnings.warn(\"y_pred contains classes not in y_true\")\n"
     ]
    },
    {
     "name": "stdout",
     "output_type": "stream",
     "text": [
      "Permutation BA mean±sd over 50 runs: 0.5044809523809524 ± 0.11888945388426155\n"
     ]
    }
   ],
   "source": [
    "rng = np.random.default_rng(123)\n",
    "perm_bas = []\n",
    "for i in range(50):  # 50 permutations\n",
    "    y_perm = rng.permutation(y)\n",
    "    Xsub = make_view(X, [sl_text, sl_audio, sl_clip])  # all features\n",
    "    ba_m, _, _, _ = eval_cv(Xsub, y_perm, patients, svm, n_splits=5, seed=42+i)\n",
    "    perm_bas.append(ba_m)\n",
    "\n",
    "print(\"Permutation BA mean±sd over 50 runs:\", np.mean(perm_bas), \"±\", np.std(perm_bas))\n"
   ]
  },
  {
   "cell_type": "code",
   "execution_count": 7,
   "id": "77fe0a93",
   "metadata": {},
   "outputs": [
    {
     "name": "stdout",
     "output_type": "stream",
     "text": [
      "Duplicate feature vectors: []\n"
     ]
    }
   ],
   "source": [
    "# A) Exact duplicates across samples?\n",
    "import hashlib\n",
    "hashes = [hashlib.md5(X[i].tobytes()).hexdigest() for i in range(X.shape[0])]\n",
    "dups = [ids[i] for i in range(X.shape[0]) if hashes.count(hashes[i]) > 1]\n",
    "print(\"Duplicate feature vectors:\", sorted(set(dups))[:10])\n",
    "\n",
    "# B) Do any patients appear in both train and test folds in a manual split?\n",
    "# (If you are not using GroupKFold elsewhere, switch to it.)\n"
   ]
  },
  {
   "cell_type": "code",
   "execution_count": 8,
   "id": "0dac3d26",
   "metadata": {},
   "outputs": [
    {
     "name": "stdout",
     "output_type": "stream",
     "text": [
      "SVM (patient-stratified 5-fold) | BA 1.000±0.000 | F1 1.000±0.000\n"
     ]
    }
   ],
   "source": [
    "import re, numpy as np\n",
    "from collections import Counter\n",
    "from sklearn.model_selection import StratifiedKFold\n",
    "from sklearn.pipeline import make_pipeline\n",
    "from sklearn.preprocessing import StandardScaler\n",
    "from sklearn.svm import SVC\n",
    "from sklearn.metrics import balanced_accuracy_score, f1_score\n",
    "\n",
    "# X, y, ids loaded from fused_readtext.npz\n",
    "# patient id: \"ID00_hc_0_0_0\" -> \"ID00\"\n",
    "patients = np.array([re.match(r\"^ID\\d+\", i).group(0) if re.match(r\"^ID\\d+\", i) else i.split(\"_\")[0] for i in ids])\n",
    "\n",
    "# one label per patient (majority vote)\n",
    "pat2ys = {}\n",
    "for pid, yy in zip(patients, y):\n",
    "    pat2ys.setdefault(pid, []).append(int(yy))\n",
    "patients_unique = np.array(sorted(pat2ys.keys()))\n",
    "patient_labels = np.array([Counter(pat2ys[pid]).most_common(1)[0][0] for pid in patients_unique])\n",
    "\n",
    "# choose K so every fold can contain both classes\n",
    "min_per_class = min(np.bincount(patient_labels))\n",
    "K = min(5, max(2, min_per_class))   # e.g., 3 if classes are small\n",
    "skf = StratifiedKFold(n_splits=K, shuffle=True, random_state=42)\n",
    "\n",
    "svm = make_pipeline(StandardScaler(with_mean=True, with_std=True),\n",
    "                    SVC(kernel=\"rbf\", C=1.0, gamma=\"scale\", class_weight=\"balanced\"))\n",
    "\n",
    "def eval_patient_folds(X, y, patients, patients_unique, patient_labels, clf):\n",
    "    ba, f1 = [], []\n",
    "    # map sample->patient index\n",
    "    pid_to_idx = {pid:i for i,pid in enumerate(patients_unique)}\n",
    "    sample_pat_idx = np.array([pid_to_idx[p] for p in patients])\n",
    "\n",
    "    for tr_pat, te_pat in skf.split(patients_unique, patient_labels):\n",
    "        tr_mask = np.isin(sample_pat_idx, tr_pat)\n",
    "        te_mask = np.isin(sample_pat_idx, te_pat)\n",
    "        # sanity: both classes present in test\n",
    "        if len(np.unique(y[te_mask])) < 2:\n",
    "            # skip or merge with neighbor fold; easiest is to reduce K and rerun\n",
    "            continue\n",
    "        clf.fit(X[tr_mask], y[tr_mask])\n",
    "        yp = clf.predict(X[te_mask])\n",
    "        ba.append(balanced_accuracy_score(y[te_mask], yp))\n",
    "        f1.append(f1_score(y[te_mask], yp, average=\"macro\"))\n",
    "    return np.mean(ba), np.std(ba), np.mean(f1), np.std(f1)\n",
    "\n",
    "ba_m, ba_s, f1_m, f1_s = eval_patient_folds(X, y, patients, patients_unique, patient_labels, svm)\n",
    "print(f\"SVM (patient-stratified {K}-fold) | BA {ba_m:.3f}±{ba_s:.3f} | F1 {f1_m:.3f}±{f1_s:.3f}\")\n"
   ]
  },
  {
   "cell_type": "code",
   "execution_count": 9,
   "id": "ba3a39a6",
   "metadata": {},
   "outputs": [
    {
     "name": "stdout",
     "output_type": "stream",
     "text": [
      "Permutation (patient-folds) BA mean±sd: 0.5207821428571429 ± 0.12440164726677487\n"
     ]
    }
   ],
   "source": [
    "rng = np.random.default_rng(123)\n",
    "perm = []\n",
    "for i in range(50):\n",
    "    y_perm = rng.permutation(y)\n",
    "    ba_m, _, _, _ = eval_patient_folds(X, y_perm, patients, patients_unique, patient_labels, svm)\n",
    "    perm.append(ba_m)\n",
    "print(\"Permutation (patient-folds) BA mean±sd:\", np.mean(perm), \"±\", np.std(perm))\n"
   ]
  }
 ],
 "metadata": {
  "kernelspec": {
   "display_name": "sheedah",
   "language": "python",
   "name": "python3"
  },
  "language_info": {
   "codemirror_mode": {
    "name": "ipython",
    "version": 3
   },
   "file_extension": ".py",
   "mimetype": "text/x-python",
   "name": "python",
   "nbconvert_exporter": "python",
   "pygments_lexer": "ipython3",
   "version": "3.12.11"
  }
 },
 "nbformat": 4,
 "nbformat_minor": 5
}

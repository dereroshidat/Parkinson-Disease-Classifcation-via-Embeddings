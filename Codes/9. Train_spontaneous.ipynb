{
 "cells": [
  {
   "cell_type": "markdown",
   "id": "2d7b62b3",
   "metadata": {},
   "source": [
    "# Train spontaneous  here and test with spontaneous"
   ]
  },
  {
   "cell_type": "code",
   "execution_count": 1,
   "id": "ac707143",
   "metadata": {},
   "outputs": [],
   "source": [
    "import numpy as np\n",
    "from sklearn.model_selection import train_test_split\n",
    "from sklearn.preprocessing import StandardScaler\n",
    "from sklearn.pipeline import make_pipeline\n",
    "from sklearn.svm import SVC\n",
    "from sklearn.ensemble import RandomForestClassifier\n",
    "from sklearn.metrics import balanced_accuracy_score, f1_score"
   ]
  },
  {
   "cell_type": "code",
   "execution_count": 2,
   "id": "b01712b1",
   "metadata": {},
   "outputs": [],
   "source": [
    "path = \"/mnt/d/Roshidat_Msc_Project/Audio_parkinson/pd&Hc_multi/spontaneous_h_fusion/spontaneous_fused_readtext.npz\""
   ]
  },
  {
   "cell_type": "code",
   "execution_count": 3,
   "id": "a3d0995e",
   "metadata": {},
   "outputs": [],
   "source": [
    "data = np.load(path)\n",
    "X, y, ids = data[\"X\"], data[\"y\"], data[\"ids\"]\n",
    "\n",
    "train_data, test_data, train_labels, test_labels = train_test_split(X, y, test_size=0.2, random_state=42)\n",
    "\n",
    "svm = make_pipeline(StandardScaler(with_mean=True, with_std=True),\n",
    "                    SVC(kernel=\"rbf\", C=1.0, gamma=\"scale\", class_weight=\"balanced\"))"
   ]
  },
  {
   "cell_type": "code",
   "execution_count": 4,
   "id": "5a0b3479",
   "metadata": {},
   "outputs": [
    {
     "name": "stdout",
     "output_type": "stream",
     "text": [
      "SVM  bal-acc: 0.9 macro-F1: 0.873015873015873\n"
     ]
    }
   ],
   "source": [
    "svm.fit(train_data, train_labels)\n",
    "y_predict = svm.predict(test_data)\n",
    "\n",
    "print(\"SVM  bal-acc:\", balanced_accuracy_score(test_labels, y_predict), \"macro-F1:\", f1_score(test_labels, y_predict, average=\"macro\"))"
   ]
  },
  {
   "cell_type": "markdown",
   "id": "867bf01d",
   "metadata": {},
   "source": [
    "# RandomForest – scaling not necessary"
   ]
  },
  {
   "cell_type": "code",
   "execution_count": 5,
   "id": "f343d044",
   "metadata": {},
   "outputs": [
    {
     "name": "stdout",
     "output_type": "stream",
     "text": [
      "RF   bal-acc: 0.9 macro-F1: 0.873015873015873\n"
     ]
    }
   ],
   "source": [
    "rf = RandomForestClassifier(n_estimators=400, class_weight=\"balanced\", max_depth=None, random_state=42)\n",
    "rf.fit(train_data, train_labels)\n",
    "yp = rf.predict(test_data)\n",
    "print(\"RF   bal-acc:\", balanced_accuracy_score(test_labels, y_predict), \"macro-F1:\", f1_score(test_labels, y_predict, average=\"macro\"))"
   ]
  },
  {
   "cell_type": "markdown",
   "id": "5bbf4486",
   "metadata": {},
   "source": [
    "# Calibrated Classifier CV\n",
    "quick check on the accuracy"
   ]
  },
  {
   "cell_type": "code",
   "execution_count": 6,
   "id": "b4b4a9a7",
   "metadata": {},
   "outputs": [
    {
     "name": "stdout",
     "output_type": "stream",
     "text": [
      "SVM (patient CV) BA 0.983±0.033 | F1 0.958±0.085\n",
      "Best params: {'svc__C': 0.3, 'svc__gamma': 'scale'} CV BA: 0.9833333333333334\n",
      "Fold confusion:\n",
      " [[3 0]\n",
      " [0 4]]\n",
      "              precision    recall  f1-score   support\n",
      "\n",
      "           0      1.000     1.000     1.000         3\n",
      "           1      1.000     1.000     1.000         4\n",
      "\n",
      "    accuracy                          1.000         7\n",
      "   macro avg      1.000     1.000     1.000         7\n",
      "weighted avg      1.000     1.000     1.000         7\n",
      "\n"
     ]
    }
   ],
   "source": [
    "import re, numpy as np\n",
    "from sklearn.model_selection import StratifiedGroupKFold, GridSearchCV\n",
    "from sklearn.pipeline import make_pipeline\n",
    "from sklearn.preprocessing import StandardScaler\n",
    "from sklearn.svm import SVC\n",
    "from sklearn.metrics import balanced_accuracy_score, f1_score, confusion_matrix, classification_report\n",
    "\n",
    "data = np.load(\"/mnt/d/Roshidat_Msc_Project/Audio_parkinson/pd&Hc_multi/spontaneous_h_fusion/spontaneous_fused_readtext.npz\", allow_pickle=False)\n",
    "X, y, ids = data[\"X\"], data[\"y\"], data[\"ids\"]\n",
    "patients = np.array([re.match(r\"^ID\\d+\", i).group(0) if re.match(r\"^ID\\d+\", i) else i.split(\"_\")[0] for i in ids])\n",
    "\n",
    "# 1) patient-stratified CV score (5 folds or 3 if tiny)\n",
    "cv = StratifiedGroupKFold(n_splits=5, shuffle=True, random_state=42)\n",
    "pipe = make_pipeline(StandardScaler(with_mean=True, with_std=True),\n",
    "                     SVC(kernel=\"rbf\", class_weight=\"balanced\", probability=True))\n",
    "\n",
    "ba, f1 = [], []\n",
    "for tr, te in cv.split(X, y, groups=patients):\n",
    "    pipe.fit(X[tr], y[tr])\n",
    "    yp = pipe.predict(X[te])\n",
    "    ba.append(balanced_accuracy_score(y[te], yp))\n",
    "    f1.append(f1_score(y[te], yp, average=\"macro\"))\n",
    "print(f\"SVM (patient CV) BA {np.mean(ba):.3f}±{np.std(ba):.3f} | F1 {np.mean(f1):.3f}±{np.std(f1):.3f}\")\n",
    "\n",
    "# 2) quick hyperparam tuning on CV (still grouped)\n",
    "param_grid = {\"svc__C\":[0.3,1,3,10], \"svc__gamma\":[\"scale\", 0.01, 0.03, 0.1]}\n",
    "gs = GridSearchCV(pipe, param_grid, scoring=\"balanced_accuracy\", cv=cv, n_jobs=-1)\n",
    "gs.fit(X, y, groups=patients)\n",
    "print(\"Best params:\", gs.best_params_, \"CV BA:\", gs.best_score_)\n",
    "\n",
    "# 3) Train final model on ALL Spontaneous and inspect errors via CV last split\n",
    "best = gs.best_estimator_\n",
    "tr, te = list(cv.split(X, y, groups=patients))[-1]\n",
    "best.fit(X[tr], y[tr])\n",
    "yp = best.predict(X[te])\n",
    "print(\"Fold confusion:\\n\", confusion_matrix(y[te], yp))\n",
    "print(classification_report(y[te], yp, digits=3))\n"
   ]
  },
  {
   "cell_type": "code",
   "execution_count": 7,
   "id": "443361bb",
   "metadata": {},
   "outputs": [
    {
     "name": "stdout",
     "output_type": "stream",
     "text": [
      "LOPOCV | BA 0.972±0.164 | F1 0.972±0.164\n"
     ]
    },
    {
     "name": "stderr",
     "output_type": "stream",
     "text": [
      "/home/roshidatdnslab/anaconda3/envs/sheedah/lib/python3.12/site-packages/sklearn/metrics/_classification.py:534: UserWarning: A single label was found in 'y_true' and 'y_pred'. For the confusion matrix to have the correct shape, use the 'labels' parameter to pass all known labels.\n",
      "  warnings.warn(\n",
      "/home/roshidatdnslab/anaconda3/envs/sheedah/lib/python3.12/site-packages/sklearn/metrics/_classification.py:534: UserWarning: A single label was found in 'y_true' and 'y_pred'. For the confusion matrix to have the correct shape, use the 'labels' parameter to pass all known labels.\n",
      "  warnings.warn(\n",
      "/home/roshidatdnslab/anaconda3/envs/sheedah/lib/python3.12/site-packages/sklearn/metrics/_classification.py:534: UserWarning: A single label was found in 'y_true' and 'y_pred'. For the confusion matrix to have the correct shape, use the 'labels' parameter to pass all known labels.\n",
      "  warnings.warn(\n",
      "/home/roshidatdnslab/anaconda3/envs/sheedah/lib/python3.12/site-packages/sklearn/metrics/_classification.py:534: UserWarning: A single label was found in 'y_true' and 'y_pred'. For the confusion matrix to have the correct shape, use the 'labels' parameter to pass all known labels.\n",
      "  warnings.warn(\n",
      "/home/roshidatdnslab/anaconda3/envs/sheedah/lib/python3.12/site-packages/sklearn/metrics/_classification.py:534: UserWarning: A single label was found in 'y_true' and 'y_pred'. For the confusion matrix to have the correct shape, use the 'labels' parameter to pass all known labels.\n",
      "  warnings.warn(\n",
      "/home/roshidatdnslab/anaconda3/envs/sheedah/lib/python3.12/site-packages/sklearn/metrics/_classification.py:534: UserWarning: A single label was found in 'y_true' and 'y_pred'. For the confusion matrix to have the correct shape, use the 'labels' parameter to pass all known labels.\n",
      "  warnings.warn(\n",
      "/home/roshidatdnslab/anaconda3/envs/sheedah/lib/python3.12/site-packages/sklearn/metrics/_classification.py:534: UserWarning: A single label was found in 'y_true' and 'y_pred'. For the confusion matrix to have the correct shape, use the 'labels' parameter to pass all known labels.\n",
      "  warnings.warn(\n",
      "/home/roshidatdnslab/anaconda3/envs/sheedah/lib/python3.12/site-packages/sklearn/metrics/_classification.py:534: UserWarning: A single label was found in 'y_true' and 'y_pred'. For the confusion matrix to have the correct shape, use the 'labels' parameter to pass all known labels.\n",
      "  warnings.warn(\n",
      "/home/roshidatdnslab/anaconda3/envs/sheedah/lib/python3.12/site-packages/sklearn/metrics/_classification.py:534: UserWarning: A single label was found in 'y_true' and 'y_pred'. For the confusion matrix to have the correct shape, use the 'labels' parameter to pass all known labels.\n",
      "  warnings.warn(\n",
      "/home/roshidatdnslab/anaconda3/envs/sheedah/lib/python3.12/site-packages/sklearn/metrics/_classification.py:534: UserWarning: A single label was found in 'y_true' and 'y_pred'. For the confusion matrix to have the correct shape, use the 'labels' parameter to pass all known labels.\n",
      "  warnings.warn(\n",
      "/home/roshidatdnslab/anaconda3/envs/sheedah/lib/python3.12/site-packages/sklearn/metrics/_classification.py:534: UserWarning: A single label was found in 'y_true' and 'y_pred'. For the confusion matrix to have the correct shape, use the 'labels' parameter to pass all known labels.\n",
      "  warnings.warn(\n",
      "/home/roshidatdnslab/anaconda3/envs/sheedah/lib/python3.12/site-packages/sklearn/metrics/_classification.py:534: UserWarning: A single label was found in 'y_true' and 'y_pred'. For the confusion matrix to have the correct shape, use the 'labels' parameter to pass all known labels.\n",
      "  warnings.warn(\n",
      "/home/roshidatdnslab/anaconda3/envs/sheedah/lib/python3.12/site-packages/sklearn/metrics/_classification.py:534: UserWarning: A single label was found in 'y_true' and 'y_pred'. For the confusion matrix to have the correct shape, use the 'labels' parameter to pass all known labels.\n",
      "  warnings.warn(\n",
      "/home/roshidatdnslab/anaconda3/envs/sheedah/lib/python3.12/site-packages/sklearn/metrics/_classification.py:534: UserWarning: A single label was found in 'y_true' and 'y_pred'. For the confusion matrix to have the correct shape, use the 'labels' parameter to pass all known labels.\n",
      "  warnings.warn(\n",
      "/home/roshidatdnslab/anaconda3/envs/sheedah/lib/python3.12/site-packages/sklearn/metrics/_classification.py:534: UserWarning: A single label was found in 'y_true' and 'y_pred'. For the confusion matrix to have the correct shape, use the 'labels' parameter to pass all known labels.\n",
      "  warnings.warn(\n",
      "/home/roshidatdnslab/anaconda3/envs/sheedah/lib/python3.12/site-packages/sklearn/metrics/_classification.py:534: UserWarning: A single label was found in 'y_true' and 'y_pred'. For the confusion matrix to have the correct shape, use the 'labels' parameter to pass all known labels.\n",
      "  warnings.warn(\n",
      "/home/roshidatdnslab/anaconda3/envs/sheedah/lib/python3.12/site-packages/sklearn/metrics/_classification.py:534: UserWarning: A single label was found in 'y_true' and 'y_pred'. For the confusion matrix to have the correct shape, use the 'labels' parameter to pass all known labels.\n",
      "  warnings.warn(\n",
      "/home/roshidatdnslab/anaconda3/envs/sheedah/lib/python3.12/site-packages/sklearn/metrics/_classification.py:534: UserWarning: A single label was found in 'y_true' and 'y_pred'. For the confusion matrix to have the correct shape, use the 'labels' parameter to pass all known labels.\n",
      "  warnings.warn(\n",
      "/home/roshidatdnslab/anaconda3/envs/sheedah/lib/python3.12/site-packages/sklearn/metrics/_classification.py:534: UserWarning: A single label was found in 'y_true' and 'y_pred'. For the confusion matrix to have the correct shape, use the 'labels' parameter to pass all known labels.\n",
      "  warnings.warn(\n",
      "/home/roshidatdnslab/anaconda3/envs/sheedah/lib/python3.12/site-packages/sklearn/metrics/_classification.py:534: UserWarning: A single label was found in 'y_true' and 'y_pred'. For the confusion matrix to have the correct shape, use the 'labels' parameter to pass all known labels.\n",
      "  warnings.warn(\n",
      "/home/roshidatdnslab/anaconda3/envs/sheedah/lib/python3.12/site-packages/sklearn/metrics/_classification.py:534: UserWarning: A single label was found in 'y_true' and 'y_pred'. For the confusion matrix to have the correct shape, use the 'labels' parameter to pass all known labels.\n",
      "  warnings.warn(\n",
      "/home/roshidatdnslab/anaconda3/envs/sheedah/lib/python3.12/site-packages/sklearn/metrics/_classification.py:2801: UserWarning: y_pred contains classes not in y_true\n",
      "  warnings.warn(\"y_pred contains classes not in y_true\")\n",
      "/home/roshidatdnslab/anaconda3/envs/sheedah/lib/python3.12/site-packages/sklearn/metrics/_classification.py:534: UserWarning: A single label was found in 'y_true' and 'y_pred'. For the confusion matrix to have the correct shape, use the 'labels' parameter to pass all known labels.\n",
      "  warnings.warn(\n",
      "/home/roshidatdnslab/anaconda3/envs/sheedah/lib/python3.12/site-packages/sklearn/metrics/_classification.py:534: UserWarning: A single label was found in 'y_true' and 'y_pred'. For the confusion matrix to have the correct shape, use the 'labels' parameter to pass all known labels.\n",
      "  warnings.warn(\n",
      "/home/roshidatdnslab/anaconda3/envs/sheedah/lib/python3.12/site-packages/sklearn/metrics/_classification.py:534: UserWarning: A single label was found in 'y_true' and 'y_pred'. For the confusion matrix to have the correct shape, use the 'labels' parameter to pass all known labels.\n",
      "  warnings.warn(\n",
      "/home/roshidatdnslab/anaconda3/envs/sheedah/lib/python3.12/site-packages/sklearn/metrics/_classification.py:534: UserWarning: A single label was found in 'y_true' and 'y_pred'. For the confusion matrix to have the correct shape, use the 'labels' parameter to pass all known labels.\n",
      "  warnings.warn(\n",
      "/home/roshidatdnslab/anaconda3/envs/sheedah/lib/python3.12/site-packages/sklearn/metrics/_classification.py:534: UserWarning: A single label was found in 'y_true' and 'y_pred'. For the confusion matrix to have the correct shape, use the 'labels' parameter to pass all known labels.\n",
      "  warnings.warn(\n",
      "/home/roshidatdnslab/anaconda3/envs/sheedah/lib/python3.12/site-packages/sklearn/metrics/_classification.py:534: UserWarning: A single label was found in 'y_true' and 'y_pred'. For the confusion matrix to have the correct shape, use the 'labels' parameter to pass all known labels.\n",
      "  warnings.warn(\n",
      "/home/roshidatdnslab/anaconda3/envs/sheedah/lib/python3.12/site-packages/sklearn/metrics/_classification.py:534: UserWarning: A single label was found in 'y_true' and 'y_pred'. For the confusion matrix to have the correct shape, use the 'labels' parameter to pass all known labels.\n",
      "  warnings.warn(\n",
      "/home/roshidatdnslab/anaconda3/envs/sheedah/lib/python3.12/site-packages/sklearn/metrics/_classification.py:534: UserWarning: A single label was found in 'y_true' and 'y_pred'. For the confusion matrix to have the correct shape, use the 'labels' parameter to pass all known labels.\n",
      "  warnings.warn(\n",
      "/home/roshidatdnslab/anaconda3/envs/sheedah/lib/python3.12/site-packages/sklearn/metrics/_classification.py:534: UserWarning: A single label was found in 'y_true' and 'y_pred'. For the confusion matrix to have the correct shape, use the 'labels' parameter to pass all known labels.\n",
      "  warnings.warn(\n",
      "/home/roshidatdnslab/anaconda3/envs/sheedah/lib/python3.12/site-packages/sklearn/metrics/_classification.py:534: UserWarning: A single label was found in 'y_true' and 'y_pred'. For the confusion matrix to have the correct shape, use the 'labels' parameter to pass all known labels.\n",
      "  warnings.warn(\n",
      "/home/roshidatdnslab/anaconda3/envs/sheedah/lib/python3.12/site-packages/sklearn/metrics/_classification.py:534: UserWarning: A single label was found in 'y_true' and 'y_pred'. For the confusion matrix to have the correct shape, use the 'labels' parameter to pass all known labels.\n",
      "  warnings.warn(\n",
      "/home/roshidatdnslab/anaconda3/envs/sheedah/lib/python3.12/site-packages/sklearn/metrics/_classification.py:534: UserWarning: A single label was found in 'y_true' and 'y_pred'. For the confusion matrix to have the correct shape, use the 'labels' parameter to pass all known labels.\n",
      "  warnings.warn(\n",
      "/home/roshidatdnslab/anaconda3/envs/sheedah/lib/python3.12/site-packages/sklearn/metrics/_classification.py:534: UserWarning: A single label was found in 'y_true' and 'y_pred'. For the confusion matrix to have the correct shape, use the 'labels' parameter to pass all known labels.\n",
      "  warnings.warn(\n",
      "/home/roshidatdnslab/anaconda3/envs/sheedah/lib/python3.12/site-packages/sklearn/metrics/_classification.py:534: UserWarning: A single label was found in 'y_true' and 'y_pred'. For the confusion matrix to have the correct shape, use the 'labels' parameter to pass all known labels.\n",
      "  warnings.warn(\n"
     ]
    }
   ],
   "source": [
    "import re, numpy as np\n",
    "from sklearn.model_selection import LeaveOneGroupOut\n",
    "from sklearn.pipeline import make_pipeline\n",
    "from sklearn.preprocessing import StandardScaler\n",
    "from sklearn.svm import SVC\n",
    "from sklearn.metrics import balanced_accuracy_score, f1_score\n",
    "\n",
    "# X,y,ids from fused_spontaneous.npz\n",
    "patients = np.array([re.match(r\"^ID\\d+\", i).group(0) if re.match(r\"^ID\\d+\", i) else i.split(\"_\")[0] for i in ids])\n",
    "\n",
    "pipe = make_pipeline(StandardScaler(with_mean=True, with_std=True),\n",
    "                     SVC(kernel=\"rbf\", C=0.3, gamma=\"scale\", class_weight=\"balanced\"))\n",
    "logo = LeaveOneGroupOut()\n",
    "ba, f1 = [], []\n",
    "for tr, te in logo.split(X, y, groups=patients):\n",
    "    pipe.fit(X[tr], y[tr])\n",
    "    yp = pipe.predict(X[te])\n",
    "    ba.append(balanced_accuracy_score(y[te], yp))\n",
    "    f1.append(f1_score(y[te], yp, average=\"macro\"))\n",
    "print(f\"LOPOCV | BA {np.mean(ba):.3f}±{np.std(ba):.3f} | F1 {np.mean(f1):.3f}±{np.std(f1):.3f}\")\n"
   ]
  },
  {
   "cell_type": "code",
   "execution_count": 8,
   "id": "1648852f",
   "metadata": {},
   "outputs": [
    {
     "name": "stdout",
     "output_type": "stream",
     "text": [
      "BA 0.969 (95% CI 0.893–1.000) | F1 0.972 (95% CI 0.908–1.000)\n"
     ]
    }
   ],
   "source": [
    "from sklearn.model_selection import StratifiedGroupKFold\n",
    "from sklearn.metrics import balanced_accuracy_score, f1_score\n",
    "\n",
    "cv = StratifiedGroupKFold(n_splits=5, shuffle=True, random_state=42)\n",
    "y_true, y_pred = [], []\n",
    "for tr, te in cv.split(X, y, groups=patients):\n",
    "    pipe.fit(X[tr], y[tr])\n",
    "    y_true.extend(y[te]); y_pred.extend(pipe.predict(X[te]))\n",
    "y_true = np.array(y_true); y_pred = np.array(y_pred)\n",
    "\n",
    "def boot_ci(metric_fn, y_true, y_pred, B=2000, rng=0):\n",
    "    rng = np.random.default_rng(rng)\n",
    "    stats = []\n",
    "    n = len(y_true)\n",
    "    for _ in range(B):\n",
    "        idx = rng.integers(0, n, n)\n",
    "        stats.append(metric_fn(y_true[idx], y_pred[idx]))\n",
    "    stats = np.sort(stats)\n",
    "    return stats[int(0.025*B)], stats[int(0.975*B)]\n",
    "\n",
    "ba = balanced_accuracy_score(y_true, y_pred)\n",
    "f1 = f1_score(y_true, y_pred, average=\"macro\")\n",
    "ba_lo, ba_hi = boot_ci(balanced_accuracy_score, y_true, y_pred)\n",
    "f1_lo, f1_hi = boot_ci(lambda a,b: f1_score(a,b,average=\"macro\"), y_true, y_pred)\n",
    "print(f\"BA {ba:.3f} (95% CI {ba_lo:.3f}–{ba_hi:.3f}) | F1 {f1:.3f} (95% CI {f1_lo:.3f}–{f1_hi:.3f})\")\n"
   ]
  },
  {
   "cell_type": "markdown",
   "id": "c1fc5ca5",
   "metadata": {},
   "source": [
    " i want to do ablation study and external validation"
   ]
  },
  {
   "cell_type": "code",
   "execution_count": 13,
   "id": "c5a98b6a",
   "metadata": {},
   "outputs": [],
   "source": [
    "import re, numpy as np\n",
    "path = \"/mnt/d/Roshidat_Msc_Project/Audio_parkinson/pd&Hc_multi/spontaneous_h_fusion/spontaneous_fused_readtext.npz\"\n",
    "data = np.load(path, allow_pickle=False)\n",
    "X, y, ids = data[\"X\"], data[\"y\"], data[\"ids\"]\n",
    "\n",
    "D_TEXT, D_AUDIO, D_CLIP = 768, 768, 512\n",
    "sl_text  = slice(0, D_TEXT)\n",
    "sl_audio = slice(D_TEXT, D_TEXT + D_AUDIO)\n",
    "sl_clip  = slice(D_TEXT + D_AUDIO, D_TEXT + D_AUDIO + D_CLIP)\n",
    "\n",
    "# patient grouping: split by patient to avoid speaker leakage\n",
    "patients = np.array([re.match(r\"^ID\\d+\", i).group(0) if re.match(r\"^ID\\d+\", i) else i.split(\"_\")[0] for i in ids])"
   ]
  },
  {
   "cell_type": "code",
   "execution_count": 14,
   "id": "7cb71325",
   "metadata": {},
   "outputs": [],
   "source": [
    "from sklearn.model_selection import StratifiedGroupKFold\n",
    "from sklearn.pipeline import make_pipeline\n",
    "from sklearn.preprocessing import StandardScaler\n",
    "from sklearn.svm import SVC\n",
    "from sklearn.ensemble import RandomForestClassifier\n",
    "from sklearn.metrics import balanced_accuracy_score, f1_score\n",
    "\n",
    "def eval_cv(Xsub, y, groups, clf, n_splits=5, seed=42):\n",
    "    cv = StratifiedGroupKFold(n_splits=n_splits, shuffle=True, random_state=seed)\n",
    "    ba, f1 = [], []\n",
    "    for tr, te in cv.split(Xsub, y, groups=groups):\n",
    "        clf.fit(Xsub[tr], y[tr])\n",
    "        yp = clf.predict(Xsub[te])\n",
    "        ba.append(balanced_accuracy_score(y[te], yp))\n",
    "        f1.append(f1_score(y[te], yp, average=\"macro\"))\n",
    "    return float(np.mean(ba)), float(np.std(ba)), float(np.mean(f1)), float(np.std(f1))\n",
    "\n"
   ]
  },
  {
   "cell_type": "code",
   "execution_count": 15,
   "id": "ee6889bc",
   "metadata": {},
   "outputs": [],
   "source": [
    "svm = make_pipeline(\n",
    "    StandardScaler(with_mean=True, with_std=True),\n",
    "    SVC(kernel=\"rbf\", C=1.0, gamma=\"scale\", class_weight=\"balanced\")\n",
    ")\n",
    "rf = RandomForestClassifier(\n",
    "    n_estimators=400, class_weight=\"balanced\", max_depth=None, random_state=42\n",
    ")\n"
   ]
  },
  {
   "cell_type": "code",
   "execution_count": 16,
   "id": "7eabd9df",
   "metadata": {},
   "outputs": [
    {
     "name": "stdout",
     "output_type": "stream",
     "text": [
      "=== SVM (RBF) ===\n",
      "text_only    | BA 0.983±0.033 | F1 0.958±0.085\n",
      "audio_only   | BA 0.983±0.033 | F1 0.958±0.085\n",
      "clip_only    | BA 0.983±0.033 | F1 0.958±0.085\n",
      "text+audio   | BA 0.983±0.033 | F1 0.958±0.085\n",
      "text+clip    | BA 0.983±0.033 | F1 0.958±0.085\n",
      "audio+clip   | BA 0.983±0.033 | F1 0.958±0.085\n",
      "all_three    | BA 0.983±0.033 | F1 0.958±0.085\n",
      "\n",
      "=== RandomForest ===\n",
      "text_only    | BA 0.983±0.033 | F1 0.958±0.085\n",
      "audio_only   | BA 0.983±0.033 | F1 0.958±0.085\n",
      "clip_only    | BA 0.983±0.033 | F1 0.958±0.085\n",
      "text+audio   | BA 0.983±0.033 | F1 0.958±0.085\n",
      "text+clip    | BA 0.983±0.033 | F1 0.958±0.085\n",
      "audio+clip   | BA 0.983±0.033 | F1 0.958±0.085\n",
      "all_three    | BA 0.983±0.033 | F1 0.958±0.085\n"
     ]
    }
   ],
   "source": [
    "def make_view(X, slices):\n",
    "    return np.concatenate([X[:, s] for s in slices], axis=1)\n",
    "\n",
    "ablations = {\n",
    "    \"text_only\":   [sl_text],\n",
    "    \"audio_only\":  [sl_audio],\n",
    "    \"clip_only\":   [sl_clip],\n",
    "    \"text+audio\":  [sl_text, sl_audio],\n",
    "    \"text+clip\":   [sl_text, sl_clip],\n",
    "    \"audio+clip\":  [sl_audio, sl_clip],\n",
    "    \"all_three\":   [sl_text, sl_audio, sl_clip],\n",
    "}\n",
    "\n",
    "print(\"=== SVM (RBF) ===\")\n",
    "for name, sls in ablations.items():\n",
    "    Xsub = make_view(X, sls)\n",
    "    ba_m, ba_s, f1_m, f1_s = eval_cv(Xsub, y, patients, svm)\n",
    "    print(f\"{name:12s} | BA {ba_m:.3f}±{ba_s:.3f} | F1 {f1_m:.3f}±{f1_s:.3f}\")\n",
    "\n",
    "print(\"\\n=== RandomForest ===\")\n",
    "for name, sls in ablations.items():\n",
    "    Xsub = make_view(X, sls)\n",
    "    ba_m, ba_s, f1_m, f1_s = eval_cv(Xsub, y, patients, rf)\n",
    "    print(f\"{name:12s} | BA {ba_m:.3f}±{ba_s:.3f} | F1 {f1_m:.3f}±{f1_s:.3f}\")\n"
   ]
  },
  {
   "cell_type": "code",
   "execution_count": 17,
   "id": "fbd523ca",
   "metadata": {},
   "outputs": [
    {
     "name": "stderr",
     "output_type": "stream",
     "text": [
      "/home/roshidatdnslab/anaconda3/envs/sheedah/lib/python3.12/site-packages/sklearn/metrics/_classification.py:2801: UserWarning: y_pred contains classes not in y_true\n",
      "  warnings.warn(\"y_pred contains classes not in y_true\")\n",
      "/home/roshidatdnslab/anaconda3/envs/sheedah/lib/python3.12/site-packages/sklearn/metrics/_classification.py:2801: UserWarning: y_pred contains classes not in y_true\n",
      "  warnings.warn(\"y_pred contains classes not in y_true\")\n",
      "/home/roshidatdnslab/anaconda3/envs/sheedah/lib/python3.12/site-packages/sklearn/metrics/_classification.py:2801: UserWarning: y_pred contains classes not in y_true\n",
      "  warnings.warn(\"y_pred contains classes not in y_true\")\n"
     ]
    },
    {
     "name": "stdout",
     "output_type": "stream",
     "text": [
      "Permutation BA mean±sd over 50 runs: 0.49539523809523817 ± 0.11340795472545714\n"
     ]
    }
   ],
   "source": [
    "rng = np.random.default_rng(123)\n",
    "perm_bas = []\n",
    "for i in range(50):  # 50 permutations\n",
    "    y_perm = rng.permutation(y)\n",
    "    Xsub = make_view(X, [sl_text, sl_audio, sl_clip])  # all features\n",
    "    ba_m, _, _, _ = eval_cv(Xsub, y_perm, patients, svm, n_splits=5, seed=42+i)\n",
    "    perm_bas.append(ba_m)\n",
    "\n",
    "print(\"Permutation BA mean±sd over 50 runs:\", np.mean(perm_bas), \"±\", np.std(perm_bas))\n"
   ]
  },
  {
   "cell_type": "code",
   "execution_count": 18,
   "id": "7d0ef8ee",
   "metadata": {},
   "outputs": [
    {
     "name": "stdout",
     "output_type": "stream",
     "text": [
      "Duplicate feature vectors: []\n"
     ]
    }
   ],
   "source": [
    "# A) Exact duplicates across samples?\n",
    "import hashlib\n",
    "hashes = [hashlib.md5(X[i].tobytes()).hexdigest() for i in range(X.shape[0])]\n",
    "dups = [ids[i] for i in range(X.shape[0]) if hashes.count(hashes[i]) > 1]\n",
    "print(\"Duplicate feature vectors:\", sorted(set(dups))[:10])\n",
    "\n",
    "# B) Do any patients appear in both train and test folds in a manual split?\n",
    "# (If you are not using GroupKFold elsewhere, switch to it.)\n"
   ]
  },
  {
   "cell_type": "code",
   "execution_count": 19,
   "id": "30d6296d",
   "metadata": {},
   "outputs": [
    {
     "name": "stdout",
     "output_type": "stream",
     "text": [
      "SVM (patient-stratified 5-fold) | BA 0.967±0.067 | F1 0.969±0.062\n"
     ]
    }
   ],
   "source": [
    "import re, numpy as np\n",
    "from collections import Counter\n",
    "from sklearn.model_selection import StratifiedKFold\n",
    "from sklearn.pipeline import make_pipeline\n",
    "from sklearn.preprocessing import StandardScaler\n",
    "from sklearn.svm import SVC\n",
    "from sklearn.metrics import balanced_accuracy_score, f1_score\n",
    "\n",
    "# X, y, ids loaded from fused_readtext.npz\n",
    "# patient id: \"ID00_hc_0_0_0\" -> \"ID00\"\n",
    "patients = np.array([re.match(r\"^ID\\d+\", i).group(0) if re.match(r\"^ID\\d+\", i) else i.split(\"_\")[0] for i in ids])\n",
    "\n",
    "# one label per patient (majority vote)\n",
    "pat2ys = {}\n",
    "for pid, yy in zip(patients, y):\n",
    "    pat2ys.setdefault(pid, []).append(int(yy))\n",
    "patients_unique = np.array(sorted(pat2ys.keys()))\n",
    "patient_labels = np.array([Counter(pat2ys[pid]).most_common(1)[0][0] for pid in patients_unique])\n",
    "\n",
    "# choose K so every fold can contain both classes\n",
    "min_per_class = min(np.bincount(patient_labels))\n",
    "K = min(5, max(2, min_per_class))   # e.g., 3 if classes are small\n",
    "skf = StratifiedKFold(n_splits=K, shuffle=True, random_state=42)\n",
    "\n",
    "svm = make_pipeline(StandardScaler(with_mean=True, with_std=True),\n",
    "                    SVC(kernel=\"rbf\", C=1.0, gamma=\"scale\", class_weight=\"balanced\"))\n",
    "\n",
    "def eval_patient_folds(X, y, patients, patients_unique, patient_labels, clf):\n",
    "    ba, f1 = [], []\n",
    "    # map sample->patient index\n",
    "    pid_to_idx = {pid:i for i,pid in enumerate(patients_unique)}\n",
    "    sample_pat_idx = np.array([pid_to_idx[p] for p in patients])\n",
    "\n",
    "    for tr_pat, te_pat in skf.split(patients_unique, patient_labels):\n",
    "        tr_mask = np.isin(sample_pat_idx, tr_pat)\n",
    "        te_mask = np.isin(sample_pat_idx, te_pat)\n",
    "        # sanity: both classes present in test\n",
    "        if len(np.unique(y[te_mask])) < 2:\n",
    "            # skip or merge with neighbor fold; easiest is to reduce K and rerun\n",
    "            continue\n",
    "        clf.fit(X[tr_mask], y[tr_mask])\n",
    "        yp = clf.predict(X[te_mask])\n",
    "        ba.append(balanced_accuracy_score(y[te_mask], yp))\n",
    "        f1.append(f1_score(y[te_mask], yp, average=\"macro\"))\n",
    "    return np.mean(ba), np.std(ba), np.mean(f1), np.std(f1)\n",
    "\n",
    "ba_m, ba_s, f1_m, f1_s = eval_patient_folds(X, y, patients, patients_unique, patient_labels, svm)\n",
    "print(f\"SVM (patient-stratified {K}-fold) | BA {ba_m:.3f}±{ba_s:.3f} | F1 {f1_m:.3f}±{f1_s:.3f}\")\n"
   ]
  },
  {
   "cell_type": "code",
   "execution_count": 20,
   "id": "89c24447",
   "metadata": {},
   "outputs": [
    {
     "name": "stdout",
     "output_type": "stream",
     "text": [
      "Permutation (patient-folds) BA mean±sd: 0.49162142857142854 ± 0.11569581689276955\n"
     ]
    }
   ],
   "source": [
    "rng = np.random.default_rng(123)\n",
    "perm = []\n",
    "for i in range(50):\n",
    "    y_perm = rng.permutation(y)\n",
    "    ba_m, _, _, _ = eval_patient_folds(X, y_perm, patients, patients_unique, patient_labels, svm)\n",
    "    perm.append(ba_m)\n",
    "print(\"Permutation (patient-folds) BA mean±sd:\", np.mean(perm), \"±\", np.std(perm))\n"
   ]
  },
  {
   "cell_type": "code",
   "execution_count": null,
   "id": "20074321",
   "metadata": {},
   "outputs": [],
   "source": []
  }
 ],
 "metadata": {
  "kernelspec": {
   "display_name": "sheedah",
   "language": "python",
   "name": "python3"
  },
  "language_info": {
   "codemirror_mode": {
    "name": "ipython",
    "version": 3
   },
   "file_extension": ".py",
   "mimetype": "text/x-python",
   "name": "python",
   "nbconvert_exporter": "python",
   "pygments_lexer": "ipython3",
   "version": "3.12.11"
  }
 },
 "nbformat": 4,
 "nbformat_minor": 5
}
